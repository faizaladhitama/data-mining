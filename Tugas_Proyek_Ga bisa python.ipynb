{
 "cells": [
  {
   "cell_type": "code",
   "execution_count": 1,
   "metadata": {},
   "outputs": [
    {
     "name": "stderr",
     "output_type": "stream",
     "text": [
      "C:\\Users\\hppro\\Anaconda3\\lib\\site-packages\\h5py\\__init__.py:36: FutureWarning: Conversion of the second argument of issubdtype from `float` to `np.floating` is deprecated. In future, it will be treated as `np.float64 == np.dtype(float).type`.\n",
      "  from ._conv import register_converters as _register_converters\n",
      "Using TensorFlow backend.\n"
     ]
    }
   ],
   "source": [
    "from keras.models import Sequential\n",
    "from keras.layers import Conv2D\n",
    "from keras.layers import MaxPooling2D\n",
    "from keras.layers import Flatten\n",
    "from keras.layers import Dense\n",
    "from keras.utils import np_utils"
   ]
  },
  {
   "cell_type": "code",
   "execution_count": 2,
   "metadata": {},
   "outputs": [],
   "source": [
    "# Initialising the CNN\n",
    "classifier = Sequential()\n",
    "# Step 1 - Convolution\n",
    "classifier.add(Conv2D(32, (3, 3), input_shape = (64, 64, 3), activation = 'relu'))\n",
    "# Step 2 - Pooling\n",
    "classifier.add(MaxPooling2D(pool_size = (2, 2)))\n",
    "# Adding a second convolutional layer\n",
    "classifier.add(Conv2D(32, (3, 3), activation = 'relu'))\n",
    "classifier.add(MaxPooling2D(pool_size = (2, 2)))\n",
    "# Step 3 - Flattening\n",
    "classifier.add(Flatten())\n",
    "# Step 4 - Full connection\n",
    "classifier.add(Dense(units = 128, activation = 'relu'))\n",
    "classifier.add(Dense(11 ,activation = 'softmax'))\n",
    "# Compiling the CNN\n",
    "classifier.compile(optimizer = 'adam', loss = 'categorical_crossentropy', metrics = ['accuracy'])"
   ]
  },
  {
   "cell_type": "code",
   "execution_count": 3,
   "metadata": {},
   "outputs": [
    {
     "name": "stdout",
     "output_type": "stream",
     "text": [
      "[INFO] describing images...\n",
      "2014\n",
      "./Data Citra Makanan Betawi-20181128/bubur_ayam\\bubur_001.jpg\n",
      "[INFO] describing images...\n",
      "4030\n",
      "./Data Citra Makanan Betawi-20181128/bubur_ayam\\bubur_001.jpg\n",
      "[INFO] describing images...\n",
      "6037\n",
      "./Data Citra Makanan Betawi-20181128/bubur_ayam\\bubur_001.jpg\n",
      "[INFO] describing images...\n",
      "8055\n",
      "./Data Citra Makanan Betawi-20181128/bubur_ayam\\bubur_001.jpg\n",
      "[INFO] describing images...\n",
      "10045\n",
      "./Data Citra Makanan Betawi-20181128/bubur_ayam\\bubur_001.jpg\n",
      "[INFO] describing images...\n",
      "12024\n",
      "./Data Citra Makanan Betawi-20181128/bubur_ayam\\bubur_001.jpg\n",
      "[INFO] describing images...\n",
      "14021\n",
      "./Data Citra Makanan Betawi-20181128/bubur_ayam\\bubur_001.jpg\n",
      "[INFO] describing images...\n",
      "16019\n",
      "./Data Citra Makanan Betawi-20181128/bubur_ayam\\bubur_001.jpg\n",
      "[INFO] describing images...\n",
      "18039\n",
      "./Data Citra Makanan Betawi-20181128/bubur_ayam\\bubur_001.jpg\n",
      "[INFO] describing images...\n",
      "20015\n",
      "./Data Citra Makanan Betawi-20181128/bubur_ayam\\bubur_001.jpg\n",
      "[INFO] describing images...\n",
      "22022\n",
      "./Data Citra Makanan Betawi-20181128/bubur_ayam\\bubur_001.jpg\n",
      "Imports done\n"
     ]
    }
   ],
   "source": [
    "from imutils import paths\n",
    "import numpy as np\n",
    "import imutils\n",
    "import cv2\n",
    "import os\n",
    "\n",
    "path = \"./Data Citra Makanan Betawi-20181128\"\n",
    "dirs = os.listdir(path)\n",
    "imagePaths = []\n",
    "for dir_name in dirs:\n",
    "    imagePaths += list(paths.list_images(path+\"/\"+dir_name))\n",
    "rawImages = []\n",
    "labels = []"
   ]
  },
  {
   "cell_type": "code",
   "execution_count": 4,
   "metadata": {},
   "outputs": [
    {
     "name": "stdout",
     "output_type": "stream",
     "text": [
      "Function defined\n"
     ]
    }
   ],
   "source": [
    "def image_to_feature_vector(image, size=(64, 64)):\n",
    "    return cv2.resize(image, size).flatten()"
   ]
  },
  {
   "cell_type": "code",
   "execution_count": 5,
   "metadata": {},
   "outputs": [
    {
     "name": "stdout",
     "output_type": "stream",
     "text": [
      "[INFO] Processed 1000/22022\n",
      "[INFO] Processed 2000/22022\n",
      "[INFO] Processed 3000/22022\n",
      "[INFO] Processed 4000/22022\n",
      "[INFO] Processed 5000/22022\n",
      "[INFO] Processed 6000/22022\n",
      "[INFO] Processed 7000/22022\n",
      "[INFO] Processed 8000/22022\n",
      "[INFO] Processed 9000/22022\n",
      "[INFO] Processed 10000/22022\n",
      "[INFO] Processed 11000/22022\n",
      "[INFO] Processed 12000/22022\n",
      "[INFO] Processed 13000/22022\n",
      "[INFO] Processed 14000/22022\n",
      "[INFO] Processed 15000/22022\n",
      "[INFO] Processed 16000/22022\n",
      "[INFO] Processed 17000/22022\n",
      "[INFO] Processed 18000/22022\n",
      "[INFO] Processed 19000/22022\n",
      "[INFO] Processed 20000/22022\n",
      "[INFO] Processed 21000/22022\n",
      "[INFO] Processed 22000/22022\n",
      "All images processed\n"
     ]
    }
   ],
   "source": [
    "unreadable_image = []\n",
    "for (i, imagePath) in enumerate(imagePaths):\n",
    "    image = cv2.imread(imagePath)\n",
    "    if image is None:\n",
    "        unreadable_image.append(imagePath)\n",
    "        continue\n",
    "    label = imagePath.split(os.path.sep)[0].split(\"/\")[2]\n",
    "    pixels = image_to_feature_vector(image)\n",
    "    rawImages.append(pixels)\n",
    "    labels.append(label)\n",
    "    if i > 0 and i % 1000 == 0:\n",
    "        print(\"[INFO] Processed {}/{}\".format(i, len(imagePaths)))"
   ]
  },
  {
   "cell_type": "code",
   "execution_count": 6,
   "metadata": {},
   "outputs": [
    {
     "name": "stdout",
     "output_type": "stream",
     "text": [
      "Unreadable images :\n"
     ]
    },
    {
     "data": {
      "text/plain": [
       "['./Data Citra Makanan Betawi-20181128/kerak_telor\\\\Kerak_Telor_11.jpg',\n",
       " './Data Citra Makanan Betawi-20181128/ketoprak\\\\ketoprak_033.jpg']"
      ]
     },
     "execution_count": 6,
     "metadata": {},
     "output_type": "execute_result"
    }
   ],
   "source": [
    "print(\"Unreadable images :\")\n",
    "unreadable_image"
   ]
  },
  {
   "cell_type": "code",
   "execution_count": 7,
   "metadata": {},
   "outputs": [
    {
     "name": "stdout",
     "output_type": "stream",
     "text": [
      "[INFO] pixels matrix: 264.24MB\n"
     ]
    }
   ],
   "source": [
    "rawImages = np.array(rawImages)\n",
    "labels = np.array(labels)"
   ]
  },
  {
   "cell_type": "code",
   "execution_count": 8,
   "metadata": {
    "scrolled": true
   },
   "outputs": [
    {
     "name": "stderr",
     "output_type": "stream",
     "text": [
      "C:\\Users\\hppro\\Anaconda3\\lib\\site-packages\\sklearn\\utils\\validation.py:475: DataConversionWarning: Data with input dtype uint8 was converted to float64 by StandardScaler.\n",
      "  warnings.warn(msg, DataConversionWarning)\n"
     ]
    }
   ],
   "source": [
    "from sklearn.preprocessing import StandardScaler\n",
    "X = StandardScaler().fit_transform(rawImages)"
   ]
  },
  {
   "cell_type": "code",
   "execution_count": 9,
   "metadata": {},
   "outputs": [],
   "source": [
    "import pandas as pd\n",
    "labels = pd.Categorical(labels)\n",
    "labels = labels.codes"
   ]
  },
  {
   "cell_type": "code",
   "execution_count": 10,
   "metadata": {},
   "outputs": [],
   "source": [
    "new_labels = []\n",
    "for e in labels:\n",
    "    new_labels.append([e])"
   ]
  },
  {
   "cell_type": "code",
   "execution_count": 11,
   "metadata": {},
   "outputs": [],
   "source": [
    "new_labels = np_utils.to_categorical(new_labels)"
   ]
  },
  {
   "cell_type": "code",
   "execution_count": null,
   "metadata": {},
   "outputs": [],
   "source": [
    "X = np.reshape(X, (22020, 64, 64, 3))"
   ]
  },
  {
   "cell_type": "code",
   "execution_count": 13,
   "metadata": {},
   "outputs": [
    {
     "name": "stdout",
     "output_type": "stream",
     "text": [
      "Epoch 1/5\n",
      "22020/22020 [==============================] - 187s 8ms/step - loss: 1.7123 - acc: 0.3990\n",
      "Epoch 2/5\n",
      "22020/22020 [==============================] - 182s 8ms/step - loss: 1.0912 - acc: 0.6203\n",
      "Epoch 3/5\n",
      "22020/22020 [==============================] - 184s 8ms/step - loss: 0.7568 - acc: 0.7362\n",
      "Epoch 4/5\n",
      "22020/22020 [==============================] - 183s 8ms/step - loss: 0.5195 - acc: 0.8174\n",
      "Epoch 5/5\n",
      "22020/22020 [==============================] - 183s 8ms/step - loss: 0.3531 - acc: 0.8799\n"
     ]
    },
    {
     "data": {
      "text/plain": [
       "<keras.callbacks.History at 0x26638eb7710>"
      ]
     },
     "execution_count": 13,
     "metadata": {},
     "output_type": "execute_result"
    }
   ],
   "source": [
    "classifier.fit(X, new_labels, epochs=5, batch_size=32)"
   ]
  },
  {
   "cell_type": "code",
   "execution_count": 30,
   "metadata": {},
   "outputs": [],
   "source": [
    "from sklearn.model_selection import train_test_split\n",
    "\n",
    "X_train, X_test, y_train, y_test = train_test_split(X, new_labels, test_size=0.33, random_state=42)"
   ]
  },
  {
   "cell_type": "code",
   "execution_count": 31,
   "metadata": {},
   "outputs": [],
   "source": [
    "# Initialising the CNN\n",
    "classifier = Sequential()\n",
    "# Step 1 - Convolution\n",
    "classifier.add(Conv2D(32, (3, 3), input_shape = (64, 64, 3), activation = 'relu'))\n",
    "# Step 2 - Pooling\n",
    "classifier.add(MaxPooling2D(pool_size = (2, 2)))\n",
    "# Adding a second convolutional layer\n",
    "classifier.add(Conv2D(32, (3, 3), activation = 'relu'))\n",
    "classifier.add(MaxPooling2D(pool_size = (2, 2)))\n",
    "# Step 3 - Flattening\n",
    "classifier.add(Flatten())\n",
    "# Step 4 - Full connection\n",
    "classifier.add(Dense(units = 128, activation = 'relu'))\n",
    "classifier.add(Dense(11 ,activation = 'softmax'))\n",
    "# Compiling the CNN\n",
    "classifier.compile(optimizer = 'adam', loss = 'categorical_crossentropy', metrics = ['accuracy'])"
   ]
  },
  {
   "cell_type": "code",
   "execution_count": 32,
   "metadata": {},
   "outputs": [
    {
     "name": "stdout",
     "output_type": "stream",
     "text": [
      "Epoch 1/10\n",
      "14753/14753 [==============================] - 137s 9ms/step - loss: 1.8215 - acc: 0.3635\n",
      "Epoch 2/10\n",
      "14753/14753 [==============================] - 130s 9ms/step - loss: 1.2171 - acc: 0.5858\n",
      "Epoch 3/10\n",
      "14753/14753 [==============================] - 120s 8ms/step - loss: 0.7987 - acc: 0.7290\n",
      "Epoch 4/10\n",
      "14753/14753 [==============================] - 120s 8ms/step - loss: 0.4817 - acc: 0.8367\n",
      "Epoch 5/10\n",
      "14753/14753 [==============================] - 121s 8ms/step - loss: 0.2560 - acc: 0.9176\n",
      "Epoch 6/10\n",
      "14753/14753 [==============================] - 121s 8ms/step - loss: 0.1572 - acc: 0.9505\n",
      "Epoch 7/10\n",
      "14753/14753 [==============================] - 112s 8ms/step - loss: 0.0756 - acc: 0.9774\n",
      "Epoch 8/10\n",
      "14753/14753 [==============================] - 76s 5ms/step - loss: 0.0988 - acc: 0.9665\n",
      "Epoch 9/10\n",
      "14753/14753 [==============================] - 78s 5ms/step - loss: 0.0663 - acc: 0.9794\n",
      "Epoch 10/10\n",
      "14753/14753 [==============================] - 80s 5ms/step - loss: 0.0602 - acc: 0.9797\n"
     ]
    },
    {
     "data": {
      "text/plain": [
       "<keras.callbacks.History at 0x2660031ee10>"
      ]
     },
     "execution_count": 32,
     "metadata": {},
     "output_type": "execute_result"
    }
   ],
   "source": [
    "classifier.fit(X_train, y_train, epochs=10, batch_size=32)"
   ]
  },
  {
   "cell_type": "code",
   "execution_count": 33,
   "metadata": {},
   "outputs": [
    {
     "name": "stdout",
     "output_type": "stream",
     "text": [
      "7267/7267 [==============================] - 14s 2ms/step\n"
     ]
    },
    {
     "data": {
      "text/plain": [
       "[2.1232620612190796, 0.6236411173881388]"
      ]
     },
     "execution_count": 33,
     "metadata": {},
     "output_type": "execute_result"
    }
   ],
   "source": [
    "classifier.evaluate(X_test, y_test, batch_size=32)"
   ]
  },
  {
   "cell_type": "code",
   "execution_count": null,
   "metadata": {},
   "outputs": [],
   "source": [
    "\"\"\"\n",
    "referensi: \n",
    "- https://stackoverflow.com/questions/41823068/train-multi-class-image-classifier-in-keras (keras)\n",
    "- https://www.kaggle.com/iftekharanam/cats-vs-dogs-classification (read image)\n",
    "\"\"\" "
   ]
  },
  {
   "cell_type": "code",
   "execution_count": null,
   "metadata": {},
   "outputs": [],
   "source": []
  }
 ],
 "metadata": {
  "kernelspec": {
   "display_name": "Python 3",
   "language": "python",
   "name": "python3"
  },
  "language_info": {
   "codemirror_mode": {
    "name": "ipython",
    "version": 3
   },
   "file_extension": ".py",
   "mimetype": "text/x-python",
   "name": "python",
   "nbconvert_exporter": "python",
   "pygments_lexer": "ipython3",
   "version": "3.6.5"
  }
 },
 "nbformat": 4,
 "nbformat_minor": 2
}
