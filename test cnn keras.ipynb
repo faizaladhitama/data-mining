{
 "cells": [
  {
   "cell_type": "code",
   "execution_count": 27,
   "metadata": {},
   "outputs": [],
   "source": [
    "from keras.models import Sequential\n",
    "from keras.layers import Conv2D\n",
    "from keras.layers import MaxPooling2D\n",
    "from keras.layers import Flatten\n",
    "from keras.layers import Dense\n",
    "from keras.utils import np_utils"
   ]
  },
  {
   "cell_type": "code",
   "execution_count": 36,
   "metadata": {},
   "outputs": [],
   "source": [
    "# Initialising the CNN\n",
    "classifier = Sequential()\n",
    "# Step 1 - Convolution\n",
    "classifier.add(Conv2D(32, (3, 3), input_shape = (64, 64, 3), activation = 'relu'))\n",
    "# Step 2 - Pooling\n",
    "classifier.add(MaxPooling2D(pool_size = (2, 2)))\n",
    "# Adding a second convolutional layer\n",
    "classifier.add(Conv2D(32, (3, 3), activation = 'relu'))\n",
    "classifier.add(MaxPooling2D(pool_size = (2, 2)))\n",
    "# Step 3 - Flattening\n",
    "classifier.add(Flatten())\n",
    "# Step 4 - Full connection\n",
    "classifier.add(Dense(units = 128, activation = 'relu'))\n",
    "classifier.add(Dense(11 ,activation = 'softmax'))\n",
    "# Compiling the CNN\n",
    "classifier.compile(optimizer = 'adam', loss = 'categorical_crossentropy', metrics = ['accuracy'])"
   ]
  },
  {
   "cell_type": "code",
   "execution_count": 14,
   "metadata": {},
   "outputs": [
    {
     "name": "stdout",
     "output_type": "stream",
     "text": [
      "[INFO] describing images...\n",
      "100\n",
      "./Data Citra Makanan Betawi-20181128/bubur_ayam\\bubur_001.jpg\n",
      "[INFO] describing images...\n",
      "200\n",
      "./Data Citra Makanan Betawi-20181128/bubur_ayam\\bubur_001.jpg\n",
      "[INFO] describing images...\n",
      "300\n",
      "./Data Citra Makanan Betawi-20181128/bubur_ayam\\bubur_001.jpg\n",
      "[INFO] describing images...\n",
      "400\n",
      "./Data Citra Makanan Betawi-20181128/bubur_ayam\\bubur_001.jpg\n",
      "[INFO] describing images...\n",
      "500\n",
      "./Data Citra Makanan Betawi-20181128/bubur_ayam\\bubur_001.jpg\n",
      "[INFO] describing images...\n",
      "600\n",
      "./Data Citra Makanan Betawi-20181128/bubur_ayam\\bubur_001.jpg\n",
      "[INFO] describing images...\n",
      "700\n",
      "./Data Citra Makanan Betawi-20181128/bubur_ayam\\bubur_001.jpg\n",
      "[INFO] describing images...\n",
      "800\n",
      "./Data Citra Makanan Betawi-20181128/bubur_ayam\\bubur_001.jpg\n",
      "[INFO] describing images...\n",
      "900\n",
      "./Data Citra Makanan Betawi-20181128/bubur_ayam\\bubur_001.jpg\n",
      "[INFO] describing images...\n",
      "1000\n",
      "./Data Citra Makanan Betawi-20181128/bubur_ayam\\bubur_001.jpg\n",
      "[INFO] describing images...\n",
      "1100\n",
      "./Data Citra Makanan Betawi-20181128/bubur_ayam\\bubur_001.jpg\n",
      "Imports done\n"
     ]
    }
   ],
   "source": [
    "from imutils import paths\n",
    "import numpy as np\n",
    "import imutils # A simple image utility library. https://github.com/jrosebr1/imutils\n",
    "import cv2 # opencv library\n",
    "import os\n",
    "\n",
    "path = \"./Data Citra Makanan Betawi-20181128\"\n",
    "dirs = os.listdir(path)\n",
    "imagePaths = []\n",
    "for dir_name in dirs:\n",
    "    print(\"[INFO] describing images...\")\n",
    "    imagePaths += list(paths.list_images(path+\"/\"+dir_name))\n",
    "    print(len(imagePaths))\n",
    "    print(imagePaths[0])\n",
    "# initialize the raw pixel intensities matrix, the features matrix,\n",
    "# and labels list\n",
    "rawImages = []\n",
    "labels = []\n",
    "print(\"Imports done\")"
   ]
  },
  {
   "cell_type": "code",
   "execution_count": 15,
   "metadata": {},
   "outputs": [
    {
     "name": "stdout",
     "output_type": "stream",
     "text": [
      "Function defined\n"
     ]
    }
   ],
   "source": [
    "def image_to_feature_vector(image, size=(64, 64)):\n",
    "# resize the image to a fixed size, then flatten the image into\n",
    "# a list of raw pixel intensities\n",
    "    return cv2.resize(image, size).flatten()\n",
    "print(\"Function defined\")"
   ]
  },
  {
   "cell_type": "code",
   "execution_count": 16,
   "metadata": {},
   "outputs": [
    {
     "name": "stdout",
     "output_type": "stream",
     "text": [
      "[INFO] Processed 1000/1100\n",
      "All images processed\n"
     ]
    }
   ],
   "source": [
    "unreadable_image = []\n",
    "# loop over the input images\n",
    "for (i, imagePath) in enumerate(imagePaths):\n",
    "    # load the image and extract the class label (assuming that our\n",
    "    # path as the format: /path/to/dataset/{class}.{image_num}.jpg\n",
    "    image = cv2.imread(imagePath)\n",
    "    if image is None:\n",
    "        unreadable_image.append(imagePath)\n",
    "        continue\n",
    "    label = imagePath.split(os.path.sep)[0].split(\"/\")[2]\n",
    " \n",
    "    # extract raw pixel intensity \"features\", followed by a color\n",
    "    # histogram to characterize the color distribution of the pixels\n",
    "    # in the image\n",
    "    pixels = image_to_feature_vector(image)\n",
    "    \n",
    "\n",
    "    # update the raw images, features, and labels matricies,\n",
    "    # respectively\n",
    "    rawImages.append(pixels)\n",
    "    labels.append(label)\n",
    "    \n",
    "    # show an update every 1,000 images\n",
    "    if i > 0 and i % 1000 == 0:\n",
    "        print(\"[INFO] Processed {}/{}\".format(i, len(imagePaths)))\n",
    "        \n",
    "print(\"All images processed\")"
   ]
  },
  {
   "cell_type": "code",
   "execution_count": 17,
   "metadata": {},
   "outputs": [
    {
     "name": "stdout",
     "output_type": "stream",
     "text": [
      "Unreadable images :\n"
     ]
    },
    {
     "data": {
      "text/plain": [
       "['./Data Citra Makanan Betawi-20181128/kerak_telor\\\\Kerak_Telor_11.jpg',\n",
       " './Data Citra Makanan Betawi-20181128/ketoprak\\\\ketoprak_033.jpg']"
      ]
     },
     "execution_count": 17,
     "metadata": {},
     "output_type": "execute_result"
    }
   ],
   "source": [
    "print(\"Unreadable images :\")\n",
    "unreadable_image"
   ]
  },
  {
   "cell_type": "code",
   "execution_count": 18,
   "metadata": {},
   "outputs": [
    {
     "name": "stdout",
     "output_type": "stream",
     "text": [
      "[INFO] pixels matrix: 13.18MB\n"
     ]
    }
   ],
   "source": [
    "# show some information on the memory consumed by the raw images\n",
    "# matrix and features matrix\n",
    "rawImages = np.array(rawImages)\n",
    "labels = np.array(labels)\n",
    "print(\"[INFO] pixels matrix: {:.2f}MB\".format(rawImages.nbytes / (1024 * 1000.0)))"
   ]
  },
  {
   "cell_type": "code",
   "execution_count": 19,
   "metadata": {
    "scrolled": true
   },
   "outputs": [
    {
     "name": "stderr",
     "output_type": "stream",
     "text": [
      "C:\\Users\\Stefanus James\\AppData\\Local\\Programs\\Python\\Python35\\lib\\site-packages\\sklearn\\utils\\validation.py:475: DataConversionWarning: Data with input dtype uint8 was converted to float64 by StandardScaler.\n",
      "  warnings.warn(msg, DataConversionWarning)\n"
     ]
    }
   ],
   "source": [
    "from sklearn.preprocessing import StandardScaler\n",
    "X = StandardScaler().fit_transform(rawImages)"
   ]
  },
  {
   "cell_type": "code",
   "execution_count": 31,
   "metadata": {},
   "outputs": [],
   "source": [
    "import pandas as pd\n",
    "labels = pd.Categorical(labels)\n",
    "labels = labels.codes"
   ]
  },
  {
   "cell_type": "code",
   "execution_count": 32,
   "metadata": {},
   "outputs": [],
   "source": [
    "new_labels = []\n",
    "for e in labels:\n",
    "    new_labels.append([e])"
   ]
  },
  {
   "cell_type": "code",
   "execution_count": 33,
   "metadata": {},
   "outputs": [],
   "source": [
    "new_labels = np_utils.to_categorical(new_labels)"
   ]
  },
  {
   "cell_type": "code",
   "execution_count": 34,
   "metadata": {},
   "outputs": [],
   "source": [
    "X = np.reshape(X, (1098, 64, 64, 3))"
   ]
  },
  {
   "cell_type": "code",
   "execution_count": 37,
   "metadata": {},
   "outputs": [
    {
     "name": "stdout",
     "output_type": "stream",
     "text": [
      "Epoch 1/10\n",
      "1098/1098 [==============================] - 6s 5ms/step - loss: 2.3677 - acc: 0.1648\n",
      "Epoch 2/10\n",
      "1098/1098 [==============================] - 4s 4ms/step - loss: 1.9509 - acc: 0.3388\n",
      "Epoch 3/10\n",
      "1098/1098 [==============================] - 4s 4ms/step - loss: 1.5196 - acc: 0.4827\n",
      "Epoch 4/10\n",
      "1098/1098 [==============================] - 4s 4ms/step - loss: 1.0902 - acc: 0.6512\n",
      "Epoch 5/10\n",
      "1098/1098 [==============================] - 5s 4ms/step - loss: 0.6797 - acc: 0.8051\n",
      "Epoch 6/10\n",
      "1098/1098 [==============================] - 5s 4ms/step - loss: 0.3435 - acc: 0.9098\n",
      "Epoch 7/10\n",
      "1098/1098 [==============================] - 5s 4ms/step - loss: 0.1582 - acc: 0.9736\n",
      "Epoch 8/10\n",
      "1098/1098 [==============================] - 5s 4ms/step - loss: 0.0651 - acc: 0.9954\n",
      "Epoch 9/10\n",
      "1098/1098 [==============================] - 5s 4ms/step - loss: 0.0400 - acc: 0.9973\n",
      "Epoch 10/10\n",
      "1098/1098 [==============================] - 5s 4ms/step - loss: 0.0313 - acc: 0.9973\n"
     ]
    },
    {
     "data": {
      "text/plain": [
       "<keras.callbacks.History at 0x16c125d4860>"
      ]
     },
     "execution_count": 37,
     "metadata": {},
     "output_type": "execute_result"
    }
   ],
   "source": [
    "#classifier.fit_generator(X,\n",
    " #                        steps_per_epoch = 8000,\n",
    "  #                       epochs = 25,\n",
    "   #                      validation_data = new_labels,\n",
    "    #                     validation_steps = 2000)\n",
    "classifier.fit(X, new_labels, epochs=10, batch_size=32)"
   ]
  },
  {
   "cell_type": "code",
   "execution_count": null,
   "metadata": {},
   "outputs": [],
   "source": [
    "##### referensi: https://stackoverflow.com/questions/41823068/train-multi-class-image-classifier-in-keras"
   ]
  }
 ],
 "metadata": {
  "kernelspec": {
   "display_name": "Python 3",
   "language": "python",
   "name": "python3"
  },
  "language_info": {
   "codemirror_mode": {
    "name": "ipython",
    "version": 3
   },
   "file_extension": ".py",
   "mimetype": "text/x-python",
   "name": "python",
   "nbconvert_exporter": "python",
   "pygments_lexer": "ipython3",
   "version": "3.5.3"
  }
 },
 "nbformat": 4,
 "nbformat_minor": 2
}
