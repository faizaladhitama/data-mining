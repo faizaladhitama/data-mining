{
 "cells": [
  {
   "cell_type": "code",
   "execution_count": 1,
   "metadata": {},
   "outputs": [
    {
     "name": "stdout",
     "output_type": "stream",
     "text": [
      "[INFO] describing images...\n",
      "100\n",
      "./Data Citra Makanan Betawi-20181128/bubur_ayam\\bubur_001.jpg\n",
      "[INFO] describing images...\n",
      "200\n",
      "./Data Citra Makanan Betawi-20181128/bubur_ayam\\bubur_001.jpg\n",
      "[INFO] describing images...\n",
      "300\n",
      "./Data Citra Makanan Betawi-20181128/bubur_ayam\\bubur_001.jpg\n",
      "[INFO] describing images...\n",
      "400\n",
      "./Data Citra Makanan Betawi-20181128/bubur_ayam\\bubur_001.jpg\n",
      "[INFO] describing images...\n",
      "500\n",
      "./Data Citra Makanan Betawi-20181128/bubur_ayam\\bubur_001.jpg\n",
      "[INFO] describing images...\n",
      "600\n",
      "./Data Citra Makanan Betawi-20181128/bubur_ayam\\bubur_001.jpg\n",
      "[INFO] describing images...\n",
      "700\n",
      "./Data Citra Makanan Betawi-20181128/bubur_ayam\\bubur_001.jpg\n",
      "[INFO] describing images...\n",
      "800\n",
      "./Data Citra Makanan Betawi-20181128/bubur_ayam\\bubur_001.jpg\n",
      "[INFO] describing images...\n",
      "900\n",
      "./Data Citra Makanan Betawi-20181128/bubur_ayam\\bubur_001.jpg\n",
      "[INFO] describing images...\n",
      "1000\n",
      "./Data Citra Makanan Betawi-20181128/bubur_ayam\\bubur_001.jpg\n",
      "[INFO] describing images...\n",
      "1100\n",
      "./Data Citra Makanan Betawi-20181128/bubur_ayam\\bubur_001.jpg\n",
      "Imports done\n"
     ]
    }
   ],
   "source": [
    "from sklearn.neighbors import KNeighborsClassifier\n",
    "from sklearn.neural_network import MLPClassifier\n",
    "from sklearn.svm import SVC\n",
    "from sklearn.model_selection import train_test_split\n",
    "from imutils import paths\n",
    "import numpy as np\n",
    "import imutils # A simple image utility library. https://github.com/jrosebr1/imutils\n",
    "import cv2 # opencv library\n",
    "import os\n",
    "import os\n",
    "\n",
    "path = \"./Data Citra Makanan Betawi-20181128\"\n",
    "dirs = os.listdir(path)\n",
    "imagePaths = []\n",
    "for dir_name in dirs:\n",
    "    print(\"[INFO] describing images...\")\n",
    "    imagePaths += list(paths.list_images(path+\"/\"+dir_name))\n",
    "    print(len(imagePaths))\n",
    "    print(imagePaths[0])\n",
    "# initialize the raw pixel intensities matrix, the features matrix,\n",
    "# and labels list\n",
    "rawImages = []\n",
    "labels = []\n",
    "print(\"Imports done\")"
   ]
  },
  {
   "cell_type": "code",
   "execution_count": 11,
   "metadata": {},
   "outputs": [],
   "source": [
    "from keras import Sequential\n",
    "from keras.layers import Dense,MaxPooling2D,Conv2D,Flatten,Dropout\n",
    "from keras.preprocessing.image import ImageDataGenerator, array_to_img, img_to_array, load_img"
   ]
  },
  {
   "cell_type": "code",
   "execution_count": 12,
   "metadata": {},
   "outputs": [],
   "source": [
    "datagen = ImageDataGenerator(\n",
    "        rotation_range=40,\n",
    "        width_shift_range=0.2,\n",
    "        height_shift_range=0.2,\n",
    "        shear_range=0.2,\n",
    "        zoom_range=0.2,\n",
    "        horizontal_flip=True,\n",
    "        fill_mode='nearest')"
   ]
  },
  {
   "cell_type": "code",
   "execution_count": null,
   "metadata": {},
   "outputs": [],
   "source": [
    "unreadable_image = []\n",
    "for (i, imagePath) in enumerate(imagePaths):\n",
    "    img = load_img(imagePath)\n",
    "    if img is None:\n",
    "        unreadable_image.append(imagePath)\n",
    "        continue\n",
    "    else:\n",
    "        label = imagePath.split(os.path.sep)[0].split(\"/\")[2]\n",
    "        x = img_to_array(img)\n",
    "        x = x.reshape((1,) + x.shape)\n",
    "        i = 0\n",
    "        for batch in datagen.flow(x, batch_size=1,save_to_dir=\"./Data Citra Makanan Betawi-20181128/\"+label, save_prefix=label, save_format='jpeg'):\n",
    "            i += 1\n",
    "            if i > 20:\n",
    "                break  # otherwise the generator would loop indefinitely\n",
    "        if i > 0 and i % 100 == 0:\n",
    "            print(\"[INFO] Processed {}/{}\".format(i, len(imagePaths)))\n",
    "print(\"All images processed\")"
   ]
  },
  {
   "cell_type": "code",
   "execution_count": 9,
   "metadata": {},
   "outputs": [],
   "source": []
  },
  {
   "cell_type": "code",
   "execution_count": null,
   "metadata": {},
   "outputs": [],
   "source": []
  },
  {
   "cell_type": "code",
   "execution_count": null,
   "metadata": {},
   "outputs": [],
   "source": []
  }
 ],
 "metadata": {
  "kernelspec": {
   "display_name": "Python 3",
   "language": "python",
   "name": "python3"
  },
  "language_info": {
   "codemirror_mode": {
    "name": "ipython",
    "version": 3
   },
   "file_extension": ".py",
   "mimetype": "text/x-python",
   "name": "python",
   "nbconvert_exporter": "python",
   "pygments_lexer": "ipython3",
   "version": "3.6.5"
  }
 },
 "nbformat": 4,
 "nbformat_minor": 2
}
